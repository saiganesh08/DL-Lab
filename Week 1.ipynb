{
 "cells": [
  {
   "cell_type": "markdown",
   "id": "819d9a8c",
   "metadata": {},
   "source": [
    "# Week 1:\n",
    "Consider a neural network that takes two inputs, has one hidden layer with two nodes, and an output layer with one node. Let's start by randomly initializing the weights and the biases in the network. print the weights and biases."
   ]
  },
  {
   "cell_type": "code",
   "execution_count": 4,
   "id": "5cfd9619",
   "metadata": {},
   "outputs": [],
   "source": [
    "import numpy as np"
   ]
  },
  {
   "cell_type": "code",
   "execution_count": 5,
   "id": "d80cf95d",
   "metadata": {},
   "outputs": [],
   "source": [
    "weights = {f\"weight of node {i}\" : np.round(np.random.rand(),2) for i in range(1,7)}\n",
    "bias    = { f\"bias of input node {i}\" : np.round(np.random.rand(),2) for i in range(1,4)}"
   ]
  },
  {
   "cell_type": "code",
   "execution_count": 6,
   "id": "a8523579",
   "metadata": {},
   "outputs": [
    {
     "name": "stdout",
     "output_type": "stream",
     "text": [
      "{'weight of node 1': 0.28, 'weight of node 2': 0.81, 'weight of node 3': 0.32, 'weight of node 4': 0.4, 'weight of node 5': 0.36, 'weight of node 6': 0.88}\n",
      "{'bias of input node 1': 0.06, 'bias of input node 2': 0.82, 'bias of input node 3': 0.1}\n"
     ]
    }
   ],
   "source": [
    "print(weights)\n",
    "print(bias)"
   ]
  },
  {
   "cell_type": "code",
   "execution_count": null,
   "id": "7b132f20",
   "metadata": {},
   "outputs": [],
   "source": []
  }
 ],
 "metadata": {
  "kernelspec": {
   "display_name": "Python 3 (ipykernel)",
   "language": "python",
   "name": "python3"
  },
  "language_info": {
   "codemirror_mode": {
    "name": "ipython",
    "version": 3
   },
   "file_extension": ".py",
   "mimetype": "text/x-python",
   "name": "python",
   "nbconvert_exporter": "python",
   "pygments_lexer": "ipython3",
   "version": "3.9.12"
  }
 },
 "nbformat": 4,
 "nbformat_minor": 5
}
