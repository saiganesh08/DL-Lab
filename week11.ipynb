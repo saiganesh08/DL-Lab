{
 "cells": [
  {
   "cell_type": "code",
   "execution_count": 10,
   "id": "540ac1a5",
   "metadata": {},
   "outputs": [],
   "source": [
    "import tensorflow as tf\n",
    "from tensorflow import keras\n",
    "\n",
    "# Load the MNIST dataset\n",
    "(x_train, y_train), (x_test, y_test) = keras.datasets.mnist.load_data()\n",
    "\n",
    "# Normalize the data\n",
    "x_train = x_train.astype('float32') / 255.\n",
    "x_test = x_test.astype('float32') / 255.\n",
    "\n",
    "# Reshape the data to be 3-dimensional for RNN input\n",
    "x_train = x_train.reshape((-1, 28, 28))\n",
    "x_test = x_test.reshape((-1, 28, 28))\n",
    "\n",
    "# Convert the labels to one-hot encoding\n",
    "y_train = keras.utils.to_categorical(y_train, 10)\n",
    "y_test = keras.utils.to_categorical(y_test, 10)\n"
   ]
  },
  {
   "cell_type": "code",
   "execution_count": 11,
   "id": "90f08ffe",
   "metadata": {},
   "outputs": [],
   "source": [
    "# Construct the RNN model\n",
    "model = keras.Sequential([\n",
    "    keras.layers.LSTM(128, input_shape=(28, 28)),\n",
    "    keras.layers.Dense(10, activation='softmax')\n",
    "])\n",
    "\n",
    "# Compile the model\n",
    "model.compile(optimizer='adam', loss='categorical_crossentropy', metrics=['accuracy'])\n"
   ]
  },
  {
   "cell_type": "code",
   "execution_count": 12,
   "id": "b6b3342b",
   "metadata": {},
   "outputs": [
    {
     "name": "stdout",
     "output_type": "stream",
     "text": [
      "Epoch 1/10\n",
      "469/469 [==============================] - 20s 41ms/step - loss: 0.5127 - accuracy: 0.8323 - val_loss: 0.1686 - val_accuracy: 0.9465\n",
      "Epoch 2/10\n",
      "469/469 [==============================] - 18s 37ms/step - loss: 0.1409 - accuracy: 0.9572 - val_loss: 0.1218 - val_accuracy: 0.9622\n",
      "Epoch 3/10\n",
      "469/469 [==============================] - 17s 37ms/step - loss: 0.0975 - accuracy: 0.9711 - val_loss: 0.0881 - val_accuracy: 0.9724\n",
      "Epoch 4/10\n",
      "469/469 [==============================] - 18s 38ms/step - loss: 0.0726 - accuracy: 0.9773 - val_loss: 0.0755 - val_accuracy: 0.9745\n",
      "Epoch 5/10\n",
      "469/469 [==============================] - 19s 40ms/step - loss: 0.0599 - accuracy: 0.9811 - val_loss: 0.0611 - val_accuracy: 0.9816\n",
      "Epoch 6/10\n",
      "469/469 [==============================] - 19s 40ms/step - loss: 0.0496 - accuracy: 0.9848 - val_loss: 0.0639 - val_accuracy: 0.9805\n",
      "Epoch 7/10\n",
      "469/469 [==============================] - 19s 40ms/step - loss: 0.0445 - accuracy: 0.9864 - val_loss: 0.0731 - val_accuracy: 0.9783\n",
      "Epoch 8/10\n",
      "469/469 [==============================] - 19s 40ms/step - loss: 0.0378 - accuracy: 0.9882 - val_loss: 0.0592 - val_accuracy: 0.9823\n",
      "Epoch 9/10\n",
      "469/469 [==============================] - 19s 40ms/step - loss: 0.0332 - accuracy: 0.9897 - val_loss: 0.0555 - val_accuracy: 0.9836\n",
      "Epoch 10/10\n",
      "469/469 [==============================] - 19s 41ms/step - loss: 0.0318 - accuracy: 0.9896 - val_loss: 0.0519 - val_accuracy: 0.9848\n"
     ]
    }
   ],
   "source": [
    "# Train the model\n",
    "history = model.fit(x_train, y_train, epochs=10, batch_size=128, validation_data=(x_test, y_test))\n"
   ]
  },
  {
   "cell_type": "code",
   "execution_count": 13,
   "id": "76a0aae0",
   "metadata": {},
   "outputs": [
    {
     "name": "stdout",
     "output_type": "stream",
     "text": [
      "313/313 [==============================] - 1s 4ms/step - loss: 0.0519 - accuracy: 0.9848\n",
      "Test loss: 0.0519\n",
      "Test accuracy: 0.9848\n"
     ]
    }
   ],
   "source": [
    "# Evaluate the model on the test data\n",
    "loss, accuracy = model.evaluate(x_test, y_test)\n",
    "print(f'Test loss: {loss:.4f}')\n",
    "print(f'Test accuracy: {accuracy:.4f}')\n"
   ]
  },
  {
   "cell_type": "code",
   "execution_count": 14,
   "id": "731e68f4",
   "metadata": {},
   "outputs": [
    {
     "data": {
      "image/png": "[encoded data removed]",
      "text/plain": [
       "<Figure size 432x288 with 1 Axes>"
      ]
     },
     "metadata": {
      "needs_background": "light"
     },
     "output_type": "display_data"
    }
   ],
   "source": [
    "import matplotlib.pyplot as plt\n",
    "\n",
    "# Plot the training and validation accuracy\n",
    "plt.plot(history.history['accuracy'])\n",
    "plt.plot(history.history['val_accuracy'])\n",
    "plt.title('Model accuracy')\n",
    "plt.xlabel('Epoch')\n",
    "plt.ylabel('Accuracy')\n",
    "plt.legend(['Train', 'Val'], loc='lower right')\n",
    "plt.show()\n"
   ]
  },
  {
   "cell_type": "code",
   "execution_count": 15,
   "id": "4be54637",
   "metadata": {},
   "outputs": [
    {
     "name": "stdout",
     "output_type": "stream",
     "text": [
      "313/313 [==============================] - 1s 3ms/step\n",
      "Confusion matrix:\n",
      "[[ 970    0    0    0    0    0    5    1    1    3]\n",
      " [   0 1134    0    0    0    0    0    1    0    0]\n",
      " [   3    4 1008    3    3    0    0   10    1    0]\n",
      " [   0    0    4 1000    0    2    0    3    1    0]\n",
      " [   1    0    0    0  970    1    2    2    0    6]\n",
      " [   3    0    0   12    0  869    3    1    3    1]\n",
      " [   1    4    0    0    3    3  946    0    1    0]\n",
      " [   0    3    2    1    1    0    0 1018    0    3]\n",
      " [   2    0    2    3    3    4    1    4  951    4]\n",
      " [   0    0    0    2   13    2    1    8    1  982]]\n",
      "\n",
      "Classification report:\n",
      "              precision    recall  f1-score   support\n",
      "\n",
      "           0       0.99      0.99      0.99       980\n",
      "           1       0.99      1.00      0.99      1135\n",
      "           2       0.99      0.98      0.98      1032\n",
      "           3       0.98      0.99      0.98      1010\n",
      "           4       0.98      0.99      0.98       982\n",
      "           5       0.99      0.97      0.98       892\n",
      "           6       0.99      0.99      0.99       958\n",
      "           7       0.97      0.99      0.98      1028\n",
      "           8       0.99      0.98      0.98       974\n",
      "           9       0.98      0.97      0.98      1009\n",
      "\n",
      "    accuracy                           0.98     10000\n",
      "   macro avg       0.98      0.98      0.98     10000\n",
      "weighted avg       0.98      0.98      0.98     10000\n",
      "\n"
     ]
    }
   ],
   "source": [
    "from sklearn.metrics import confusion_matrix, classification_report\n",
    "import numpy as np\n",
    "# Compute the confusion matrix and classification report\n",
    "y_pred = model.predict(x_test)\n",
    "y_pred = np.argmax(y_pred, axis=1)\n",
    "y_true = np.argmax(y_test, axis=1)\n",
    "confusion_mtx = confusion_matrix(y_true, y_pred)\n",
    "class_report = classification_report(y_true, y_pred)\n",
    "\n",
    "print('Confusion matrix:')\n",
    "print(confusion_mtx)\n",
    "print()\n",
    "print('Classification report:')\n",
    "print(class_report)\n"
   ]
  },
  {
   "cell_type": "code",
   "execution_count": null,
   "id": "4d6dd6c1",
   "metadata": {},
   "outputs": [],
   "source": []
  }
 ],
 "metadata": {
  "kernelspec": {
   "display_name": "Python 3 (ipykernel)",
   "language": "python",
   "name": "python3"
  },
  "language_info": {
   "codemirror_mode": {
    "name": "ipython",
    "version": 3
   },
   "file_extension": ".py",
   "mimetype": "text/x-python",
   "name": "python",
   "nbconvert_exporter": "python",
   "pygments_lexer": "ipython3",
   "version": "3.9.12"
  }
 },
 "nbformat": 4,
 "nbformat_minor": 5
}
