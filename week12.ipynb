{
 "cells": [
  {
   "cell_type": "code",
   "execution_count": 1,
   "id": "8a9dc0a2",
   "metadata": {},
   "outputs": [],
   "source": [
    "import numpy as np\n",
    "import tensorflow as tf\n",
    "from tensorflow import keras\n",
    "from tensorflow.keras import layers\n",
    "from tensorflow.keras.datasets import mnist\n",
    "\n",
    "# Load the dataset\n",
    "(x_train, y_train), (x_test, y_test) = mnist.load_data()\n"
   ]
  },
  {
   "cell_type": "code",
   "execution_count": 2,
   "id": "eef2d855",
   "metadata": {},
   "outputs": [],
   "source": [
    "# Normalize the pixel values\n",
    "x_train = x_train.astype(\"float32\") / 255.0\n",
    "x_test = x_test.astype(\"float32\") / 255.0\n",
    "\n",
    "# Reshape the input data to fit the LSTM architecture\n",
    "x_train = np.expand_dims(x_train, axis=-1)\n",
    "x_test = np.expand_dims(x_test, axis=-1)\n"
   ]
  },
  {
   "cell_type": "code",
   "execution_count": 3,
   "id": "d7eef832",
   "metadata": {},
   "outputs": [],
   "source": [
    "# Define the LSTM model\n",
    "model = keras.Sequential(\n",
    "    [\n",
    "        layers.Input(shape=(28, 28, 1)),\n",
    "        layers.Reshape(target_shape=(28, 28)),\n",
    "        layers.LSTM(64),\n",
    "        layers.Dense(10, activation=\"softmax\"),\n",
    "    ]\n",
    ")\n",
    "\n",
    "# Compile the model\n",
    "model.compile(\n",
    "    loss=\"sparse_categorical_crossentropy\",\n",
    "    optimizer=\"adam\",\n",
    "    metrics=[\"accuracy\"],\n",
    ")\n"
   ]
  },
  {
   "cell_type": "code",
   "execution_count": 4,
   "id": "b40a29a0",
   "metadata": {},
   "outputs": [
    {
     "name": "stdout",
     "output_type": "stream",
     "text": [
      "Epoch 1/10\n",
      "422/422 [==============================] - 6s 11ms/step - loss: 0.7157 - accuracy: 0.7665 - val_loss: 0.2441 - val_accuracy: 0.9247\n",
      "Epoch 2/10\n",
      "422/422 [==============================] - 4s 10ms/step - loss: 0.2166 - accuracy: 0.9348 - val_loss: 0.1527 - val_accuracy: 0.9562\n",
      "Epoch 3/10\n",
      "422/422 [==============================] - 5s 11ms/step - loss: 0.1542 - accuracy: 0.9533 - val_loss: 0.1187 - val_accuracy: 0.9652\n",
      "Epoch 4/10\n",
      "422/422 [==============================] - 4s 10ms/step - loss: 0.1202 - accuracy: 0.9633 - val_loss: 0.0972 - val_accuracy: 0.9722\n",
      "Epoch 5/10\n",
      "422/422 [==============================] - 4s 10ms/step - loss: 0.1001 - accuracy: 0.9695 - val_loss: 0.0906 - val_accuracy: 0.9738\n",
      "Epoch 6/10\n",
      "422/422 [==============================] - 4s 10ms/step - loss: 0.0849 - accuracy: 0.9743 - val_loss: 0.0744 - val_accuracy: 0.9788\n",
      "Epoch 7/10\n",
      "422/422 [==============================] - 4s 10ms/step - loss: 0.0754 - accuracy: 0.9770 - val_loss: 0.0747 - val_accuracy: 0.9783\n",
      "Epoch 8/10\n",
      "422/422 [==============================] - 4s 10ms/step - loss: 0.0665 - accuracy: 0.9797 - val_loss: 0.0679 - val_accuracy: 0.9797\n",
      "Epoch 9/10\n",
      "422/422 [==============================] - 4s 10ms/step - loss: 0.0609 - accuracy: 0.9814 - val_loss: 0.0640 - val_accuracy: 0.9830\n",
      "Epoch 10/10\n",
      "422/422 [==============================] - 5s 11ms/step - loss: 0.0522 - accuracy: 0.9839 - val_loss: 0.0553 - val_accuracy: 0.9835\n"
     ]
    },
    {
     "data": {
      "text/plain": [
       "<keras.callbacks.History at 0x137860f6fa0>"
      ]
     },
     "execution_count": 4,
     "metadata": {},
     "output_type": "execute_result"
    }
   ],
   "source": [
    "# Train the model\n",
    "model.fit(x_train, y_train, batch_size=128, epochs=10, validation_split=0.1)\n"
   ]
  },
  {
   "cell_type": "code",
   "execution_count": 6,
   "id": "b5d9d9ee",
   "metadata": {},
   "outputs": [
    {
     "name": "stdout",
     "output_type": "stream",
     "text": [
      "313/313 [==============================] - 1s 2ms/step - loss: 0.0662 - accuracy: 0.9805\n",
      "Test accuracy: 98.04999828338623\n"
     ]
    }
   ],
   "source": [
    "# Evaluate the model on the test data\n",
    "test_loss, test_acc = model.evaluate(x_test, y_test)\n",
    "print(\"Test accuracy:\", test_acc*100)\n"
   ]
  },
  {
   "cell_type": "code",
   "execution_count": null,
   "id": "facbf6bc",
   "metadata": {},
   "outputs": [],
   "source": []
  }
 ],
 "metadata": {
  "kernelspec": {
   "display_name": "Python 3 (ipykernel)",
   "language": "python",
   "name": "python3"
  },
  "language_info": {
   "codemirror_mode": {
    "name": "ipython",
    "version": 3
   },
   "file_extension": ".py",
   "mimetype": "text/x-python",
   "name": "python",
   "nbconvert_exporter": "python",
   "pygments_lexer": "ipython3",
   "version": "3.9.12"
  }
 },
 "nbformat": 4,
 "nbformat_minor": 5
}
