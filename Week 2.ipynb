{
 "cells": [
  {
   "cell_type": "markdown",
   "id": "1ee57ce8",
   "metadata": {},
   "source": [
    "# Week 2: Consider the week 1 network and compute the following\n",
    "The weighted sum.\n",
    "Assuming a sigmoid activation function, let's compute the activation of the first node.\n",
    "compute the activation of the second node\n",
    "compute the weighted sum of these inputs to the node in the output layer\n",
    "compute the output of the network as the activation of the node in the output layer\n"
   ]
  },
  {
   "cell_type": "code",
   "execution_count": 1,
   "id": "e7a8ae00",
   "metadata": {},
   "outputs": [],
   "source": [
    "import numpy as np"
   ]
  },
  {
   "cell_type": "code",
   "execution_count": 20,
   "id": "15da3b87",
   "metadata": {},
   "outputs": [],
   "source": [
    "class Network:\n",
    "    def __init__(self, layers):\n",
    "        self.network = {}\n",
    "        self.layers = layers\n",
    "        \n",
    "        for i in range(1, len(layers)):\n",
    "            self.network[f\"layer {i}\"] = {\n",
    "                \"weights\" : np.random.rand(\n",
    "                        layers[i - 1],     # per each row each output\n",
    "                        layers[i]          # per each col each input\n",
    "                    ),\n",
    "                \"bias\" : np.random.rand(\n",
    "                        layers[i]\n",
    "                    )\n",
    "                                 \n",
    "            }\n",
    "    \n",
    "    def activation(self, values):\n",
    "        \"\"\"\n",
    "            sigmoid activation function\n",
    "        \"\"\"\n",
    "        sigmoid = lambda x : 1 / (1 + np.exp(-x))\n",
    "        \n",
    "        return np.array([\n",
    "            sigmoid(value) for value in values\n",
    "        ])\n",
    "        \n",
    "    def forward(self, input_layer):\n",
    "        \"\"\"\n",
    "            outcome function which will give the output values output layer\n",
    "            \n",
    "            \n",
    "            output = f(w.transpose * input + bias)\n",
    "        \"\"\"\n",
    "        input_values = np.array(input_layer)\n",
    "        #print(\"dimensions\",input_values)\n",
    "        for layer_name, layer in self.network.items():\n",
    "            print(f\"\\n {layer_name} weights :\", np.round(layer[\"weights\"],2))\n",
    "            print(f\"\\n {layer_name} bias :\", np.round(layer[\"bias\"],2))\n",
    "            layer_output =np.round((layer['weights'].transpose() @ input_values) + layer['bias'],2)\n",
    "            print(f\"\\n {layer_name} Weighted sum :\", layer_output)\n",
    "            threshold_output = np.round(self.activation(layer_output),2)\n",
    "            print(f\"\\n {layer_name} Threshold_Output :\", threshold_output)\n",
    "            input_values = threshold_output\n",
    "            \n",
    "        return np.round(input_values, 2)"
   ]
  },
  {
   "cell_type": "code",
   "execution_count": 21,
   "id": "a3d88e99",
   "metadata": {},
   "outputs": [
    {
     "name": "stdout",
     "output_type": "stream",
     "text": [
      "\n",
      " layer 1 weights : [[0.97 0.42]\n",
      " [0.82 0.81]]\n",
      "\n",
      " layer 1 bias : [0.58 0.57]\n",
      "\n",
      " layer 1 Weighted sum : [3.34 2.22]\n",
      "\n",
      " layer 1 Threshold_Output : [0.97 0.9 ]\n",
      "\n",
      " layer 2 weights : [[0.21]\n",
      " [0.82]]\n",
      "\n",
      " layer 2 bias : [0.22]\n",
      "\n",
      " layer 2 Weighted sum : [1.16]\n",
      "\n",
      " layer 2 Threshold_Output : [0.76]\n",
      "\n",
      " Final Output is [0.76]\n"
     ]
    }
   ],
   "source": [
    "network = Network([2, 2, 1])\n",
    "print(f\"\\n Final Output is {network.forward([2, 1])}\")"
   ]
  },
  {
   "cell_type": "code",
   "execution_count": null,
   "id": "954e3dc0",
   "metadata": {},
   "outputs": [],
   "source": []
  }
 ],
 "metadata": {
  "kernelspec": {
   "display_name": "Python 3 (ipykernel)",
   "language": "python",
   "name": "python3"
  },
  "language_info": {
   "codemirror_mode": {
    "name": "ipython",
    "version": 3
   },
   "file_extension": ".py",
   "mimetype": "text/x-python",
   "name": "python",
   "nbconvert_exporter": "python",
   "pygments_lexer": "ipython3",
   "version": "3.9.12"
  }
 },
 "nbformat": 4,
 "nbformat_minor": 5
}
