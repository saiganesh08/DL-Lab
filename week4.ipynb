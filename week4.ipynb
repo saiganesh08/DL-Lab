{
 "cells": [
  {
   "cell_type": "code",
   "execution_count": 1,
   "id": "92257132",
   "metadata": {},
   "outputs": [],
   "source": [
    "import numpy as np"
   ]
  },
  {
   "cell_type": "code",
   "execution_count": 2,
   "id": "09aebd35",
   "metadata": {},
   "outputs": [],
   "source": [
    "class Network:\n",
    "    def __init__(self, layers):\n",
    "        self.network = {}\n",
    "        self.layers =  layers\n",
    "        \n",
    "        for i in range(1, len(layers)):\n",
    "            self.network[f\"layer {i}\"] = {\n",
    "                \"weights\" : np.random.rand(\n",
    "                layers[i-1],\n",
    "                layers[i]),\n",
    "                \"bias\" : np.random.rand(\n",
    "                layers[i])\n",
    "            }\n",
    "            \n",
    "    def activation_function(self, values):\n",
    "        \"\"\"\n",
    "            tanh activation function\n",
    "        \"\"\"\n",
    "        tanh = lambda x : (np.exp(-x) - np.exp(x)) / (np.exp(-x) + np.exp(x))\n",
    "        \n",
    "        return np.array(\n",
    "            list(\n",
    "                map(\n",
    "                    tanh, \n",
    "                    values.tolist()\n",
    "                )\n",
    "            ), \n",
    "            dtype='float32'\n",
    "        )\n",
    "        \n",
    "    def forward(self, input_layer):\n",
    "        \"\"\"\n",
    "            outcome function which will give the output values output layer\n",
    "            \n",
    "            \n",
    "            output = f(w.transpose * input + bias)\n",
    "        \"\"\"\n",
    "        input_values = np.array(input_layer)\n",
    "        \n",
    "        for layer_name, layer in self.network.items():\n",
    "            print(f\"\\n {layer_name} weights :\", layer[\"weights\"])\n",
    "            print(f\"\\n {layer_name} bias :\", layer[\"bias\"])\n",
    "            layer_output = (layer['weights'].transpose() @ input_values) + layer['bias']\n",
    "            #print(f\"\\n {layer_name} Output :\", layer_output)\n",
    "            threshold_output = self.activation_function(layer_output)\n",
    "            #print(f\"\\n {layer_name} Threshold_Output :\", threshold_output)\n",
    "            input_values = threshold_output\n",
    "            \n",
    "        return np.round(input_values, 2)"
   ]
  },
  {
   "cell_type": "code",
   "execution_count": 4,
   "id": "0178825e",
   "metadata": {},
   "outputs": [
    {
     "name": "stdout",
     "output_type": "stream",
     "text": [
      "\n",
      " layer 1 weights : [[0.32564396 0.28926181 0.07626392]\n",
      " [0.64149179 0.10313758 0.25834476]\n",
      " [0.07537695 0.9242185  0.83244987]\n",
      " [0.4777499  0.90831051 0.95947614]\n",
      " [0.49936886 0.8993287  0.71131695]]\n",
      "\n",
      " layer 1 bias : [0.86556557 0.29322153 0.43284446]\n",
      "\n",
      " layer 2 weights : [[0.8521238  0.15530767]\n",
      " [0.50685951 0.9836112 ]\n",
      " [0.99242068 0.68886785]]\n",
      "\n",
      " layer 2 bias : [0.90307847 0.49762261]\n",
      "\n",
      " layer 3 weights : [[0.66048538 0.89477574 0.29728703]\n",
      " [0.20615474 0.68467219 0.48926699]]\n",
      "\n",
      " layer 3 bias : [0.73943037 0.24327108 0.96626442]\n",
      "\n",
      " layer 4 weights : [[0.69925018]\n",
      " [0.73591995]\n",
      " [0.57535177]]\n",
      "\n",
      " layer 4 bias : [0.83152698]\n",
      "\n",
      " Final Output is [0.77]\n"
     ]
    }
   ],
   "source": [
    "network = Network([5, 3, 2, 3, 1])\n",
    "print(f\"\\n Final Output is {network.forward([2, 1,1,1,2])}\")"
   ]
  },
  {
   "cell_type": "code",
   "execution_count": null,
   "id": "46df510d",
   "metadata": {},
   "outputs": [],
   "source": []
  }
 ],
 "metadata": {
  "kernelspec": {
   "display_name": "Python 3 (ipykernel)",
   "language": "python",
   "name": "python3"
  },
  "language_info": {
   "codemirror_mode": {
    "name": "ipython",
    "version": 3
   },
   "file_extension": ".py",
   "mimetype": "text/x-python",
   "name": "python",
   "nbconvert_exporter": "python",
   "pygments_lexer": "ipython3",
   "version": "3.9.12"
  }
 },
 "nbformat": 4,
 "nbformat_minor": 5
}
