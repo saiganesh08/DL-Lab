{
 "cells": [
  {
   "cell_type": "code",
   "execution_count": 1,
   "id": "92257132",
   "metadata": {},
   "outputs": [],
   "source": [
    "import numpy as np"
   ]
  },
  {
   "cell_type": "code",
   "execution_count": 6,
   "id": "09aebd35",
   "metadata": {},
   "outputs": [],
   "source": [
    "class Network:\n",
    "    def __init__(self, layers):\n",
    "        self.network = {}\n",
    "        self.layers =  layers\n",
    "        \n",
    "        for i in range(1, len(layers)):\n",
    "            self.network[f\"layer {i}\"] = {\n",
    "                \"weights\" : np.random.rand(\n",
    "                layers[i-1],\n",
    "                layers[i]),\n",
    "                \"bias\" : np.random.rand(\n",
    "                layers[i])\n",
    "            }\n",
    "            \n",
    "    def activation(self, values):\n",
    "        \"\"\"\n",
    "            tanh activation function\n",
    "        \"\"\"\n",
    "        tanh = lambda x : (np.exp(x) - np.exp(-x)) / (np.exp(x) + np.exp(-x))\n",
    "        \n",
    "        return np.array(\n",
    "            list(\n",
    "                map(\n",
    "                    tanh, \n",
    "                    values.tolist()\n",
    "                )\n",
    "            ), \n",
    "            dtype='float32'\n",
    "        )\n",
    "        \n",
    "    def forward(self, input_layer):\n",
    "        \"\"\"\n",
    "            outcome function which will give the output values output layer\n",
    "            \n",
    "            \n",
    "            output = f(w.transpose * input + bias)\n",
    "        \"\"\"\n",
    "        input_values = np.array(input_layer)\n",
    "        #print(\"dimensions\",input_values)\n",
    "        for layer_name, layer in self.network.items():\n",
    "            print(f\"\\n {layer_name} weights :\", np.round(layer[\"weights\"],2))\n",
    "            print(f\"\\n {layer_name} bias :\", np.round(layer[\"bias\"],2))\n",
    "            layer_output =np.round((layer['weights'].transpose() @ input_values) + layer['bias'],2)\n",
    "            print(f\"\\n {layer_name} Weighted sum :\", layer_output)\n",
    "            threshold_output = np.round(self.activation(layer_output),2)\n",
    "            print(f\"\\n {layer_name} Threshold_Output :\", threshold_output)\n",
    "            input_values = threshold_output\n",
    "            \n",
    "        return np.round(input_values, 2)"
   ]
  },
  {
   "cell_type": "code",
   "execution_count": 7,
   "id": "0178825e",
   "metadata": {},
   "outputs": [
    {
     "name": "stdout",
     "output_type": "stream",
     "text": [
      "\n",
      " layer 1 weights : [[0.34 0.58 0.97]\n",
      " [0.04 0.9  0.14]\n",
      " [0.3  0.27 0.8 ]\n",
      " [0.75 0.83 0.06]\n",
      " [0.21 0.39 0.29]]\n",
      "\n",
      " layer 1 bias : [0.75 0.45 0.46]\n",
      "\n",
      " layer 1 Weighted sum : [2.95 4.39 3.99]\n",
      "\n",
      " layer 1 Threshold_Output : [0.99 1.   1.  ]\n",
      "\n",
      " layer 2 weights : [[0.92 0.44]\n",
      " [0.79 0.4 ]\n",
      " [0.22 0.31]]\n",
      "\n",
      " layer 2 bias : [0.18 0.46]\n",
      "\n",
      " layer 2 Weighted sum : [2.1 1.6]\n",
      "\n",
      " layer 2 Threshold_Output : [0.97 0.92]\n",
      "\n",
      " layer 3 weights : [[0.72 0.07 0.5 ]\n",
      " [0.68 0.52 0.62]]\n",
      "\n",
      " layer 3 bias : [0.77 0.96 0.71]\n",
      "\n",
      " layer 3 Weighted sum : [2.09 1.51 1.76]\n",
      "\n",
      " layer 3 Threshold_Output : [0.97 0.91 0.94]\n",
      "\n",
      " layer 4 weights : [[0.28]\n",
      " [0.86]\n",
      " [0.74]]\n",
      "\n",
      " layer 4 bias : [0.01]\n",
      "\n",
      " layer 4 Weighted sum : [1.76]\n",
      "\n",
      " layer 4 Threshold_Output : [0.94]\n",
      "\n",
      " Final Output is [0.94]\n"
     ]
    }
   ],
   "source": [
    "network = Network([5, 3, 2, 3, 1])\n",
    "print(f\"\\n Final Output is {network.forward([2, 1,1,1,2])}\")"
   ]
  },
  {
   "cell_type": "code",
   "execution_count": null,
   "id": "46df510d",
   "metadata": {},
   "outputs": [],
   "source": []
  }
 ],
 "metadata": {
  "kernelspec": {
   "display_name": "Python 3 (ipykernel)",
   "language": "python",
   "name": "python3"
  },
  "language_info": {
   "codemirror_mode": {
    "name": "ipython",
    "version": 3
   },
   "file_extension": ".py",
   "mimetype": "text/x-python",
   "name": "python",
   "nbconvert_exporter": "python",
   "pygments_lexer": "ipython3",
   "version": "3.9.12"
  }
 },
 "nbformat": 4,
 "nbformat_minor": 5
}
