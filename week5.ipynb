{
 "cells": [
  {
   "cell_type": "code",
   "execution_count": 7,
   "id": "760ffff4",
   "metadata": {},
   "outputs": [],
   "source": [
    "import numpy as np"
   ]
  },
  {
   "cell_type": "code",
   "execution_count": 8,
   "id": "ce95da73",
   "metadata": {},
   "outputs": [],
   "source": [
    "class Network:\n",
    "    def __init__(self, layers):\n",
    "        self.network = {}\n",
    "        self.layers = layers\n",
    "        \n",
    "        for i in range(1, len(layers)):\n",
    "            self.network[f\"layer {i}\"] = {\n",
    "                \"weights\" : np.random.rand(\n",
    "                layers[i-1], \n",
    "                layers[i]),\n",
    "                \"bias\" : np.random.rand(\n",
    "                layers[i])\n",
    "            }\n",
    "            \n",
    "        \n",
    "    def activation(self, values):\n",
    "        \"\"\"\n",
    "            RELU activation function\n",
    "        \"\"\"\n",
    "        relu = lambda x : max(0, x)\n",
    "        \n",
    "        return np.array([\n",
    "            relu(value) for value in values\n",
    "        ])\n",
    "    \n",
    "    def forward(self, input_layer):\n",
    "        \"\"\"\n",
    "            outcome function which will give the output values output layer\n",
    "            \n",
    "            \n",
    "            output = f(w.transpose * input + bias)\n",
    "        \"\"\"\n",
    "        input_values = np.array(input_layer)\n",
    "        #print(\"dimensions\",input_values)\n",
    "        for layer_name, layer in self.network.items():\n",
    "            print(f\"\\n {layer_name} weights :\", np.round(layer[\"weights\"],2))\n",
    "            print(f\"\\n {layer_name} bias :\", np.round(layer[\"bias\"],2))\n",
    "            layer_output =np.round((layer['weights'].transpose() @ input_values) + layer['bias'],2)\n",
    "            print(f\"\\n {layer_name} Weighted sum :\", layer_output)\n",
    "            threshold_output = np.round(self.activation(layer_output),2)\n",
    "            print(f\"\\n {layer_name} Threshold_Output :\", threshold_output)\n",
    "            input_values = threshold_output\n",
    "            \n",
    "        return np.round(input_values, 2)\n",
    "    "
   ]
  },
  {
   "cell_type": "code",
   "execution_count": 9,
   "id": "050c0514",
   "metadata": {},
   "outputs": [
    {
     "name": "stdout",
     "output_type": "stream",
     "text": [
      "\n",
      " layer 1 weights : [[0.22 0.56 0.53]\n",
      " [0.22 0.42 0.8 ]\n",
      " [0.09 0.05 0.04]\n",
      " [0.62 0.04 0.11]\n",
      " [0.31 0.42 0.15]]\n",
      "\n",
      " layer 1 bias : [0.96 0.77 0.46]\n",
      "\n",
      " layer 1 Weighted sum : [2.95 3.25 2.76]\n",
      "\n",
      " layer 1 Threshold_Output : [2.95 3.25 2.76]\n",
      "\n",
      " layer 2 weights : [[0.34 0.35]\n",
      " [0.58 0.73]\n",
      " [0.16 0.47]]\n",
      "\n",
      " layer 2 bias : [0.31 0.2 ]\n",
      "\n",
      " layer 2 Weighted sum : [3.65 4.9 ]\n",
      "\n",
      " layer 2 Threshold_Output : [3.65 4.9 ]\n",
      "\n",
      " layer 3 weights : [[0.48 0.42 0.76]\n",
      " [0.02 0.28 0.86]]\n",
      "\n",
      " layer 3 bias : [0.54 0.33 0.38]\n",
      "\n",
      " layer 3 Weighted sum : [2.4  3.23 7.36]\n",
      "\n",
      " layer 3 Threshold_Output : [2.4  3.23 7.36]\n",
      "\n",
      " layer 4 weights : [[0.96]\n",
      " [0.73]\n",
      " [0.97]]\n",
      "\n",
      " layer 4 bias : [0.41]\n",
      "\n",
      " layer 4 Weighted sum : [12.22]\n",
      "\n",
      " layer 4 Threshold_Output : [12.22]\n",
      "\n",
      "Output is [12.22]\n"
     ]
    }
   ],
   "source": [
    "network = Network([5, 3, 2, 3, 1])\n",
    "print(f\"\\nOutput is {network.forward([2, 1, 1 , 1, 2])}\")"
   ]
  },
  {
   "cell_type": "code",
   "execution_count": null,
   "id": "be7bd3c9",
   "metadata": {},
   "outputs": [],
   "source": []
  }
 ],
 "metadata": {
  "kernelspec": {
   "display_name": "Python 3 (ipykernel)",
   "language": "python",
   "name": "python3"
  },
  "language_info": {
   "codemirror_mode": {
    "name": "ipython",
    "version": 3
   },
   "file_extension": ".py",
   "mimetype": "text/x-python",
   "name": "python",
   "nbconvert_exporter": "python",
   "pygments_lexer": "ipython3",
   "version": "3.9.12"
  }
 },
 "nbformat": 4,
 "nbformat_minor": 5
}
