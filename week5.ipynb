{
 "cells": [
  {
   "cell_type": "code",
   "execution_count": 1,
   "id": "760ffff4",
   "metadata": {},
   "outputs": [],
   "source": [
    "import numpy as np"
   ]
  },
  {
   "cell_type": "code",
   "execution_count": 2,
   "id": "ce95da73",
   "metadata": {},
   "outputs": [],
   "source": [
    "class Network:\n",
    "    def __init__(self, layers):\n",
    "        self.network = {}\n",
    "        self.layers = layers\n",
    "        \n",
    "        for i in range(1, len(layers)):\n",
    "            self.network[f\"layer {i}\"] = {\n",
    "                \"weights\" : np.random.rand(\n",
    "                layers[i-1], \n",
    "                layers[i]),\n",
    "                \"bias\" : np.random.rand(\n",
    "                layers[i])\n",
    "            }\n",
    "            \n",
    "        \n",
    "    def activation(self, values):\n",
    "        \"\"\"\n",
    "            RELU activation function\n",
    "        \"\"\"\n",
    "        relu = lambda x : max(0, x)\n",
    "        \n",
    "        return np.array([\n",
    "            relu(value) for value in values\n",
    "        ])\n",
    "    \n",
    "    def forward(self, input_layer):\n",
    "        \"\"\"\n",
    "            outcome function which will give the output values output layer\n",
    "            \n",
    "            \n",
    "            output = f(w.transpose * input + bias)\n",
    "        \"\"\"\n",
    "        input_values = np.array(input_layer)\n",
    "        \n",
    "        for layer_name, layer in self.network.items():\n",
    "            print(f\"\\n {layer_name} weights :\", layer[\"weights\"])\n",
    "            print(f\"\\n {layer_name} bias :\", layer[\"bias\"])\n",
    "            layer_output = (layer['weights'].transpose() @ input_values) + layer['bias']\n",
    "            #print(f\"\\n {layer_name} Output :\", layer_output)\n",
    "            threshold_output = self.activation(layer_output)\n",
    "            #print(f\"\\n {layer_name} Threshold_Output :\", threshold_output)\n",
    "            input_values = threshold_output\n",
    "            \n",
    "        return np.round(input_values, 2)\n",
    "    "
   ]
  },
  {
   "cell_type": "code",
   "execution_count": 3,
   "id": "050c0514",
   "metadata": {},
   "outputs": [
    {
     "name": "stdout",
     "output_type": "stream",
     "text": [
      "\n",
      " layer 1 weights : [[0.09837394 0.12228406 0.35692309]\n",
      " [0.47813838 0.05604818 0.85518889]\n",
      " [0.40668365 0.07003841 0.15702005]\n",
      " [0.7163483  0.69014346 0.63515149]\n",
      " [0.19532325 0.378165   0.45608365]]\n",
      "\n",
      " layer 1 bias : [0.00126845 0.96712008 0.43208843]\n",
      "\n",
      " layer 2 weights : [[0.92558832 0.15205686]\n",
      " [0.94167333 0.69093469]\n",
      " [0.84316305 0.22253828]]\n",
      "\n",
      " layer 2 bias : [0.73375494 0.03683197]\n",
      "\n",
      " layer 3 weights : [[0.59505675 0.60798458 0.44971343]\n",
      " [0.68210714 0.76102403 0.31000006]]\n",
      "\n",
      " layer 3 bias : [0.97736456 0.47109285 0.59269615]\n",
      "\n",
      " layer 4 weights : [[0.66076442]\n",
      " [0.77619298]\n",
      " [0.27977629]]\n",
      "\n",
      " layer 4 bias : [0.67558079]\n",
      "\n",
      "Output is [13.8]\n"
     ]
    }
   ],
   "source": [
    "network = Network([5, 3, 2, 3, 1])\n",
    "print(f\"\\nOutput is {network.forward([2, 1, 1 , 1, 2])}\")"
   ]
  },
  {
   "cell_type": "code",
   "execution_count": null,
   "id": "be7bd3c9",
   "metadata": {},
   "outputs": [],
   "source": []
  }
 ],
 "metadata": {
  "kernelspec": {
   "display_name": "Python 3 (ipykernel)",
   "language": "python",
   "name": "python3"
  },
  "language_info": {
   "codemirror_mode": {
    "name": "ipython",
    "version": 3
   },
   "file_extension": ".py",
   "mimetype": "text/x-python",
   "name": "python",
   "nbconvert_exporter": "python",
   "pygments_lexer": "ipython3",
   "version": "3.9.12"
  }
 },
 "nbformat": 4,
 "nbformat_minor": 5
}
