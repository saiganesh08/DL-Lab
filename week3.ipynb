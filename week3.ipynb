{
 "cells": [
  {
   "cell_type": "code",
   "execution_count": 1,
   "id": "80a7cf51",
   "metadata": {},
   "outputs": [],
   "source": [
    "import numpy as np"
   ]
  },
  {
   "cell_type": "code",
   "execution_count": 2,
   "id": "60d62c74",
   "metadata": {},
   "outputs": [],
   "source": [
    "class Network:\n",
    "    def __init__(self, layers):\n",
    "        self.network = {}\n",
    "        self.layers = layers\n",
    "        \n",
    "        for i in range(1, len(layers)):\n",
    "            self.network[f\"layer {i}\"] = {\n",
    "                \"weights\" : np.random.rand(\n",
    "                        layers[i - 1],     # per each row each output\n",
    "                        layers[i]          # per each col each input\n",
    "                    ),\n",
    "                \"bias\" : np.random.rand(\n",
    "                        layers[i]\n",
    "                    )\n",
    "                                 \n",
    "            }\n",
    "    \n",
    "    def activation(self, values):\n",
    "        \"\"\"\n",
    "            sigmoid activation function\n",
    "        \"\"\"\n",
    "        sigmoid = lambda x : 1 / (1 + np.exp(-x))\n",
    "        \n",
    "        return np.array([\n",
    "            sigmoid(value) for value in values\n",
    "        ])\n",
    "        \n",
    "    def forward(self, input_layer):\n",
    "        \"\"\"\n",
    "            outcome function which will give the output values output layer\n",
    "            \n",
    "            \n",
    "            output = f(w.transpose * input + bias)\n",
    "        \"\"\"\n",
    "        input_values = np.array(input_layer)\n",
    "        #print(\"dimensions\",input_values)\n",
    "        for layer_name, layer in self.network.items():\n",
    "            print(f\"\\n {layer_name} weights :\", np.round(layer[\"weights\"],2))\n",
    "            print(f\"\\n {layer_name} bias :\", np.round(layer[\"bias\"],2))\n",
    "            layer_output =np.round((layer['weights'].transpose() @ input_values) + layer['bias'],2)\n",
    "            print(f\"\\n {layer_name} Weighted sum :\", layer_output)\n",
    "            threshold_output = np.round(self.activation(layer_output),2)\n",
    "            print(f\"\\n {layer_name} Threshold_Output :\", threshold_output)\n",
    "            input_values = threshold_output\n",
    "            \n",
    "        return np.round(input_values, 2)"
   ]
  },
  {
   "cell_type": "code",
   "execution_count": 3,
   "id": "02ca3e35",
   "metadata": {},
   "outputs": [
    {
     "name": "stdout",
     "output_type": "stream",
     "text": [
      "\n",
      " layer 1 weights : [[0.88 0.41 0.25]\n",
      " [0.51 0.2  0.44]\n",
      " [0.09 0.51 0.56]\n",
      " [0.2  0.45 0.07]\n",
      " [0.61 0.92 0.88]]\n",
      "\n",
      " layer 1 bias : [0.19 0.64 0.93]\n",
      "\n",
      " layer 1 Weighted sum : [3.96 4.46 4.25]\n",
      "\n",
      " layer 1 Threshold_Output : [0.98 0.99 0.99]\n",
      "\n",
      " layer 2 weights : [[0.13 0.22]\n",
      " [0.88 0.52]\n",
      " [0.77 0.98]]\n",
      "\n",
      " layer 2 bias : [0.67 0.98]\n",
      "\n",
      " layer 2 Weighted sum : [2.43 2.69]\n",
      "\n",
      " layer 2 Threshold_Output : [0.92 0.94]\n",
      "\n",
      " layer 3 weights : [[0.65 0.12 0.22]\n",
      " [0.87 0.55 0.08]]\n",
      "\n",
      " layer 3 bias : [0.53 0.25 0.41]\n",
      "\n",
      " layer 3 Weighted sum : [1.95 0.88 0.69]\n",
      "\n",
      " layer 3 Threshold_Output : [0.88 0.71 0.67]\n",
      "\n",
      " layer 4 weights : [[0.02]\n",
      " [0.35]\n",
      " [0.87]]\n",
      "\n",
      " layer 4 bias : [0.71]\n",
      "\n",
      " layer 4 Weighted sum : [1.56]\n",
      "\n",
      " layer 4 Threshold_Output : [0.83]\n",
      "\n",
      " Final Output is [0.83]\n"
     ]
    }
   ],
   "source": [
    "network = Network([5, 3, 2, 3, 1])\n",
    "print(f\"\\n Final Output is {network.forward([2, 1,1,1,2])}\")"
   ]
  },
  {
   "cell_type": "code",
   "execution_count": null,
   "id": "9dd8e3c1",
   "metadata": {},
   "outputs": [],
   "source": []
  }
 ],
 "metadata": {
  "kernelspec": {
   "display_name": "Python 3 (ipykernel)",
   "language": "python",
   "name": "python3"
  },
  "language_info": {
   "codemirror_mode": {
    "name": "ipython",
    "version": 3
   },
   "file_extension": ".py",
   "mimetype": "text/x-python",
   "name": "python",
   "nbconvert_exporter": "python",
   "pygments_lexer": "ipython3",
   "version": "3.9.12"
  }
 },
 "nbformat": 4,
 "nbformat_minor": 5
}
