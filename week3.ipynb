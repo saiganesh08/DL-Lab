{
 "cells": [
  {
   "cell_type": "code",
   "execution_count": 1,
   "id": "80a7cf51",
   "metadata": {},
   "outputs": [],
   "source": [
    "import numpy as np"
   ]
  },
  {
   "cell_type": "code",
   "execution_count": 14,
   "id": "60d62c74",
   "metadata": {},
   "outputs": [],
   "source": [
    "class Network:\n",
    "    def __init__(self, layers):\n",
    "        self.network = {}\n",
    "        self.layers = layers\n",
    "        \n",
    "        for i in range(1, len(layers)):\n",
    "            self.network[f\"layer {i}\"] = {\n",
    "                \"weights\" : np.random.rand(\n",
    "                        layers[i - 1],     # per each row each output\n",
    "                        layers[i]          # per each col each input\n",
    "                    ),\n",
    "                \"bias\" : np.random.rand(\n",
    "                        layers[i]\n",
    "                    )\n",
    "                                 \n",
    "            }\n",
    "    \n",
    "    def activation(self, values):\n",
    "        \"\"\"\n",
    "            sigmoid activation function\n",
    "        \"\"\"\n",
    "        sigmoid = lambda x : 1 / (1 + np.exp(-x))\n",
    "        \n",
    "        return np.array([\n",
    "            sigmoid(value) for value in values\n",
    "        ])\n",
    "        \n",
    "    def forward(self, input_layer):\n",
    "        \"\"\"\n",
    "            outcome function which will give the output values output layer\n",
    "            \n",
    "            \n",
    "            output = f(w.transpose * input + bias)\n",
    "        \"\"\"\n",
    "        input_values = np.array(input_layer)\n",
    "        \n",
    "        for layer_name, layer in self.network.items():\n",
    "            print(f\"\\n {layer_name} weights :\", layer[\"weights\"])\n",
    "            print(f\"\\n {layer_name} bias :\", layer[\"bias\"])\n",
    "            layer_output = (layer['weights'].transpose() @ input_values) + layer['bias']\n",
    "            #print(f\"\\n {layer_name} Output :\", layer_output)\n",
    "            threshold_output = self.activation(layer_output)\n",
    "            #print(f\"\\n {layer_name} Threshold_Output :\", threshold_output)\n",
    "            input_values = threshold_output\n",
    "            \n",
    "        return np.round(input_values, 2)"
   ]
  },
  {
   "cell_type": "code",
   "execution_count": 15,
   "id": "02ca3e35",
   "metadata": {},
   "outputs": [
    {
     "name": "stdout",
     "output_type": "stream",
     "text": [
      "\n",
      " layer 1 weights : [[0.26948949 0.10415857 0.90070736]\n",
      " [0.257215   0.57089685 0.96685542]\n",
      " [0.12942828 0.29031081 0.77736546]\n",
      " [0.57253836 0.43271755 0.24256268]\n",
      " [0.61440176 0.23980449 0.31959126]]\n",
      "\n",
      " layer 1 bias : [0.54194751 0.62816686 0.52531117]\n",
      "\n",
      " layer 2 weights : [[0.72731696 0.61219216]\n",
      " [0.84880469 0.39726388]\n",
      " [0.85292373 0.78300642]]\n",
      "\n",
      " layer 2 bias : [0.97232901 0.66011998]\n",
      "\n",
      " layer 3 weights : [[0.10793389 0.45145061 0.63541448]\n",
      " [0.04048373 0.17408359 0.70521273]]\n",
      "\n",
      " layer 3 bias : [0.63770516 0.28852351 0.54822281]\n",
      "\n",
      " layer 4 weights : [[0.51978933]\n",
      " [0.34667916]\n",
      " [0.57375955]]\n",
      "\n",
      " layer 4 bias : [0.44386095]\n",
      "\n",
      " Final Output is [0.82]\n"
     ]
    }
   ],
   "source": [
    "network = Network([5, 3, 2, 3, 1])\n",
    "print(f\"\\n Final Output is {network.forward([2, 1,1,1,2])}\")"
   ]
  },
  {
   "cell_type": "code",
   "execution_count": null,
   "id": "9a8b923e",
   "metadata": {},
   "outputs": [],
   "source": []
  }
 ],
 "metadata": {
  "kernelspec": {
   "display_name": "Python 3 (ipykernel)",
   "language": "python",
   "name": "python3"
  },
  "language_info": {
   "codemirror_mode": {
    "name": "ipython",
    "version": 3
   },
   "file_extension": ".py",
   "mimetype": "text/x-python",
   "name": "python",
   "nbconvert_exporter": "python",
   "pygments_lexer": "ipython3",
   "version": "3.9.12"
  }
 },
 "nbformat": 4,
 "nbformat_minor": 5
}
